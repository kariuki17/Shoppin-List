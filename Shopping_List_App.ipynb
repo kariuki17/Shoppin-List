{
  "nbformat": 4,
  "nbformat_minor": 0,
  "metadata": {
    "colab": {
      "provenance": []
    },
    "kernelspec": {
      "name": "python3",
      "display_name": "Python 3"
    },
    "language_info": {
      "name": "python"
    }
  },
  "cells": [
    {
      "cell_type": "markdown",
      "source": [
        "**Objective**\n",
        "\n",
        "Create a program that allows the user to manage their shopping list. The user should be able to add items to the list, remove items, and view the current list of items.\n",
        "\n",
        "**Statement**:\n",
        "\n",
        "* Create a list to store the shopping items\n",
        "* Use a while loop to create a menu of options for the user to add, remove, or view items from the list\n",
        "* Use a for loop to iterate through the list of items and display them to the user\n",
        "* Use the range() function to limit the number of items that can be added to the list\n",
        "* Use the list, tuple, set, and dictionary data structures to store and manipulate the shopping items\n"
      ],
      "metadata": {
        "id": "BrL8akfGFESp"
      }
    },
    {
      "cell_type": "markdown",
      "source": [
        "### **Instructions**:\n",
        "\n",
        "1. Create a list named 'shopping_list' to store the items.\n",
        "2. Use a while loop to create a menu of options for the user to add, remove, or view items from the list.\n",
        "3. Use the input() function to prompt the user to make a selection from the menu.\n",
        "4. Use an if-elif-else block to determine the user's selection and perform the corresponding action.\n",
        "5. If the user selects 'add', use the input() function to prompt the user to enter an item to add to the list. Use the range() function to limit the number of items that can be added to the list.\n",
        "6. If the user selects 'remove', use the input() function to prompt the user to enter an item to remove from the list.\n",
        "7. If the user selects 'view', use a for loop to iterate through the list of items and display them to the user.\n",
        "8. Use the list, tuple, set, and dictionary data structures to store and manipulate the shopping items.\n",
        "\n"
      ],
      "metadata": {
        "id": "--Fp6jotFLzW"
      }
    },
    {
      "cell_type": "markdown",
      "source": [],
      "metadata": {
        "id": "BpTL3J3bFF-V"
      }
    },
    {
      "cell_type": "code",
      "execution_count": null,
      "metadata": {
        "id": "cuf5r-zsE9Yq"
      },
      "outputs": [],
      "source": [
        "# Initialize a dictionary to store shopping items and their quantities\n",
        "shopping_dict = {}\n",
        "\n",
        "# Function to add an item to the shopping list\n",
        "def add_item():\n",
        "    \"\"\"\n",
        "    Use the list, tuple, set, and dictionary data structures\n",
        "    to store and manipulate the shopping items\n",
        "    \"\"\"\n",
        "    while True:\n",
        "        item = input(\"Enter the item to add: \")\n",
        "        if item.strip() == \"\":\n",
        "            print(\"Item name cannot be empty. Please enter a valid item.\")\n",
        "        else:\n",
        "            break\n",
        "    if item in shopping_dict:  # If item already exists, update its quantity\n",
        "        while True:\n",
        "            try:\n",
        "                quantity_to_add = int(input(f\"Enter the quantity of {item} to add: \"))\n",
        "                if quantity_to_add < 1:\n",
        "                    print(\"Quantity must be a positive integer.\")\n",
        "                else:\n",
        "                    break\n",
        "            except ValueError:\n",
        "                print(\"Invalid input. Please enter a valid integer.\")\n",
        "        shopping_dict[item] += quantity_to_add\n",
        "        print(f\"{quantity_to_add} {item}(s) added to the list.\")\n",
        "    else:  # If item is new, add it to the dictionary with quantity 1\n",
        "        shopping_dict[item] = 1\n",
        "        print(f\"{item} added to the list.\")\n",
        "\n",
        "# Function to remove an item from the shopping list\n",
        "def remove_item():\n",
        "    if shopping_dict:\n",
        "        item = input(\"Enter the item to remove: \")\n",
        "        if item in shopping_dict:\n",
        "            quantity_to_remove = int(input(f\"Enter the quantity of {item} to remove: \"))\n",
        "            if quantity_to_remove >= shopping_dict[item]:\n",
        "                del shopping_dict[item]\n",
        "                print(f\"All {item} has been removed from the list.\")\n",
        "            else:\n",
        "                shopping_dict[item] -= quantity_to_remove\n",
        "                print(f\"{quantity_to_remove} quantity of {item} has been removed from the list.\")\n",
        "        else:\n",
        "            print(\"Item not found.\")\n",
        "    else:\n",
        "        print(\"The list is empty.\")\n",
        "\n",
        "# Function to view the shopping list\n",
        "def view_list():\n",
        "    if shopping_dict:\n",
        "        print(\"Your shopping list:\")\n",
        "        for item, quantity in shopping_dict.items():\n",
        "            print(f\"{item}: {quantity}\")\n",
        "    else:\n",
        "        print(\"The list is empty.\")\n",
        "\n",
        "# Welcome message\n",
        "print(\"\\n--- Welcome To Your Shopping List Manager! --- \")\n",
        "\n",
        "\"\"\"\n",
        "While loop to create a menu of options for the user to\n",
        "add, remove, or view items from the list.\n",
        "\"\"\"\n",
        "# Main program loop\n",
        "while True:\n",
        "    # Menu Options\n",
        "    print(\"\\nMenu:\")\n",
        "    print(\"1. Add Item\")\n",
        "    print(\"2. Remove Item\")\n",
        "    print(\"3. View List\")\n",
        "    print(\"4. Quit\")\n",
        "\n",
        "    # Prompt the user to make a selection from the menu\n",
        "    choice = input(\"Enter your choice (1, 2, 3, or 4): \")\n",
        "\n",
        "    # Control flow based on user choice\n",
        "    if choice == '1':\n",
        "        if len(shopping_dict) < 7:  # Limiting the number of items to 7\n",
        "            #use of range() function to iterate through the dictionary\n",
        "            for _ in range(7 - len(shopping_dict)):\n",
        "                add_item()\n",
        "                add_another = input(\"Do you want to add another item? (yes/no): \")\n",
        "                if add_another.lower() == 'no':\n",
        "                    break\n",
        "                elif add_another.lower() != 'yes':\n",
        "                    print(\"Invalid input. Please enter 'yes' or 'no'.\")\n",
        "                    break\n",
        "        else:\n",
        "            print(\"Sorry, the list is full. You cannot add more items.\")\n",
        "\n",
        "    elif choice == '2': #Call the Remove Function\n",
        "        remove_item()\n",
        "\n",
        "    elif choice == '3': #Call the View Function\n",
        "        view_list()\n",
        "\n",
        "    elif choice == '4': #End\n",
        "        print(\"Thank you for using the shopping list manager. Goodbye!\")\n",
        "        break\n",
        "    #Control Structure to limit Operation Choices\n",
        "    else:\n",
        "        print(\"Invalid choice. Please enter a number from 1 to 4.\")"
      ]
    },
    {
      "cell_type": "markdown",
      "source": [
        "# **Streamlit Deployment of Shopping List**"
      ],
      "metadata": {
        "id": "0-qnPs0-FQJC"
      }
    },
    {
      "cell_type": "code",
      "source": [
        "%%writefile shopping_list_app.py\n",
        "import streamlit as st\n",
        "\n",
        "# Initialize shopping dictionary in session state\n",
        "if 'shopping_dict' not in st.session_state:\n",
        "    st.session_state.shopping_dict = {}\n",
        "\n",
        "def add_item(item, quantity):\n",
        "    if item.strip() == \"\":\n",
        "        return \"Item name cannot be empty.\"\n",
        "    if not quantity.isdigit() or int(quantity) < 1:\n",
        "        return \"Quantity must be a positive integer.\"\n",
        "\n",
        "    quantity = int(quantity)\n",
        "    if item in st.session_state.shopping_dict:\n",
        "        st.session_state.shopping_dict[item] += quantity\n",
        "        return f\"{quantity} {item}(s) added.\"\n",
        "    else:\n",
        "        st.session_state.shopping_dict[item] = quantity\n",
        "        return f\"{item} added.\"\n",
        "\n",
        "def remove_item(item, quantity):\n",
        "    if not st.session_state.shopping_dict:\n",
        "        return \"List is empty.\"\n",
        "    if item not in st.session_state.shopping_dict:\n",
        "        return \"Item not found.\"\n",
        "    if not quantity.isdigit() or int(quantity) < 1:\n",
        "        return \"Quantity must be a positive integer.\"\n",
        "\n",
        "    quantity = int(quantity)\n",
        "    if quantity >= st.session_state.shopping_dict[item]:\n",
        "        del st.session_state.shopping_dict[item]\n",
        "        return f\"All {item} removed.\"\n",
        "    else:\n",
        "        st.session_state.shopping_dict[item] -= quantity\n",
        "        return f\"{quantity} {item} removed.\"\n",
        "\n",
        "def view_list():\n",
        "    if st.session_state.shopping_dict:\n",
        "        return \"\\n\".join([f\"{item}: {quantity}\" for item, quantity in st.session_state.shopping_dict.items()])\n",
        "    return \"List is empty.\"\n",
        "\n",
        "# Streamlit app\n",
        "st.title(\"Shopping List Manager\")\n",
        "\n",
        "choice = st.selectbox(\"Menu\", [\"Add Item\", \"Remove Item\", \"View List\"])\n",
        "\n",
        "if choice == \"Add Item\":\n",
        "    if len(st.session_state.shopping_dict) < 7:\n",
        "        item = st.text_input(\"Item to add\")\n",
        "        quantity = st.text_input(\"Quantity\", \"1\")\n",
        "        if st.button(\"Add\"):\n",
        "            result = add_item(item, quantity)\n",
        "            st.write(result)\n",
        "    else:\n",
        "        st.write(\"List is full (max 7 items).\")\n",
        "\n",
        "elif choice == \"Remove Item\":\n",
        "    item = st.text_input(\"Item to remove\")\n",
        "    quantity = st.text_input(\"Quantity\", \"1\")\n",
        "    if st.button(\"Remove\"):\n",
        "        result = remove_item(item, quantity)\n",
        "        st.write(result)\n",
        "\n",
        "elif choice == \"View List\":\n",
        "    st.text(view_list())\n",
        "\n",
        "if st.button(\"Quit\"):\n",
        "    st.write(\"Goodbye!\")\n",
        "    st.session_state.shopping_dict.clear()"
      ],
      "metadata": {
        "colab": {
          "base_uri": "https://localhost:8080/"
        },
        "id": "glLys32RFZ3G",
        "outputId": "18a7cb95-f7b8-4411-eeac-33b56f488fdd"
      },
      "execution_count": null,
      "outputs": [
        {
          "output_type": "stream",
          "name": "stdout",
          "text": [
            "Writing shopping_list_app.py\n"
          ]
        }
      ]
    }
  ]
}